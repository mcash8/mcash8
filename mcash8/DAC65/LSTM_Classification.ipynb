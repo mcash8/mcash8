{
  "nbformat": 4,
  "nbformat_minor": 0,
  "metadata": {
    "colab": {
      "provenance": [],
      "collapsed_sections": [
        "vEr_mczSzqzC"
      ],
      "authorship_tag": "ABX9TyProxdZ+GZtAEeCusAjAL8Z"
    },
    "kernelspec": {
      "name": "python3",
      "display_name": "Python 3"
    },
    "language_info": {
      "name": "python"
    }
  },
  "cells": [
    {
      "cell_type": "code",
      "source": [
        "import torch\n",
        "import torch.nn as nn\n",
        "import torch.nn.functional as F\n",
        "import torch.optim as optim\n",
        "from torch.autograd import Variable \n",
        "from torch.utils.data import Dataset\n",
        "from torch.utils.data import DataLoader\n",
        "\n",
        "import numpy as np\n",
        "import matplotlib.pyplot as plt\n",
        "\n",
        "torch.manual_seed(1)"
      ],
      "metadata": {
        "colab": {
          "base_uri": "https://localhost:8080/"
        },
        "id": "ng9gUF8-nmDY",
        "outputId": "00d9b5e8-6dfb-4739-bc0f-9b66b300b2f0"
      },
      "execution_count": 1,
      "outputs": [
        {
          "output_type": "execute_result",
          "data": {
            "text/plain": [
              "<torch._C.Generator at 0x7ff12e18ab10>"
            ]
          },
          "metadata": {},
          "execution_count": 1
        }
      ]
    },
    {
      "cell_type": "markdown",
      "source": [
        "##Generate Train and Test Data"
      ],
      "metadata": {
        "id": "4PTxv3I0AUc5"
      }
    },
    {
      "cell_type": "markdown",
      "source": [
        "Let's assume we have some data for 50 time steps. \n",
        "We want a 50x2 time steps. The two columns represent the link costs to the two neighbors from $D_{B}$ and are the features we will train on. "
      ],
      "metadata": {
        "id": "dbemm7wcBHwe"
      }
    },
    {
      "cell_type": "code",
      "source": [
        "t = np.arange(0,50,1) #time vector"
      ],
      "metadata": {
        "id": "10DSwQ7-AXDC"
      },
      "execution_count": 2,
      "outputs": []
    },
    {
      "cell_type": "markdown",
      "source": [
        "Since we don't have really have data from a simulation we will have to manually create it. We limit the link cost between 1 and 10. "
      ],
      "metadata": {
        "id": "74G-hR9QEtBf"
      }
    },
    {
      "cell_type": "code",
      "source": [
        "route1 = np.repeat(8, 9)\n",
        "route2 = np.arange(1, 9, 1)\n",
        "\n",
        "route2 = np.append(route2, np.repeat(8,9))\n",
        "route2 = np.append(route2, np.arange(8,11,1))\n",
        "route2 = np.append(route2, np.arange(10,0,-1))\n",
        "route2 = np.append(route2, np.arange(1, 10, 2))\n",
        "route2 = np.append(route2, np.repeat(9, 3))\n",
        "route2 = np.append(route2, np.arange(9,11,1))\n",
        "route2 = np.append(route2, np.arange(10,0,-1))\n",
        "plt.plot(route2)\n",
        "\n",
        "route1 = np.append(route1, np.arange(8,0,-1))\n",
        "route1 = np.append(route1, np.repeat(1,2))\n",
        "route1 = np.append(route1, np.arange(1,11, 1))\n",
        "route1 = np.append(route1, np.repeat(10,3))\n",
        "route1 = np.append(route1, np.arange(10,0,-1))\n",
        "route1 = np.append(route1, np.repeat(1,3))\n",
        "route1 = np.append(route1, np.arange(1,6,1))\n",
        "plt.plot(route1)"
      ],
      "metadata": {
        "colab": {
          "base_uri": "https://localhost:8080/",
          "height": 283
        },
        "id": "lasBghLLFI7K",
        "outputId": "823117e9-a346-4c43-8384-1e9df0e71adc"
      },
      "execution_count": 3,
      "outputs": [
        {
          "output_type": "execute_result",
          "data": {
            "text/plain": [
              "[<matplotlib.lines.Line2D at 0x7ff12cb47760>]"
            ]
          },
          "metadata": {},
          "execution_count": 3
        },
        {
          "output_type": "display_data",
          "data": {
            "text/plain": [
              "<Figure size 432x288 with 1 Axes>"
            ],
            "image/png": "[encoded data removed]"
          },
          "metadata": {
            "needs_background": "light"
          }
        }
      ]
    },
    {
      "cell_type": "code",
      "source": [
        "route1=np.expand_dims(route1, axis=0)\n",
        "route2=np.expand_dims(route2, axis=0)\n",
        "\n",
        "x_train = np.concatenate((route1, route2), axis=0)\n",
        "x_train = np.squeeze(x_train)\n",
        "x_train.shape"
      ],
      "metadata": {
        "id": "OcNWNhKXj6SZ",
        "colab": {
          "base_uri": "https://localhost:8080/"
        },
        "outputId": "94595205-eaf5-4349-c04c-e32657bf2ed0"
      },
      "execution_count": 4,
      "outputs": [
        {
          "output_type": "execute_result",
          "data": {
            "text/plain": [
              "(2, 50)"
            ]
          },
          "metadata": {},
          "execution_count": 4
        }
      ]
    },
    {
      "cell_type": "markdown",
      "source": [
        "Now we need to generate the labels"
      ],
      "metadata": {
        "id": "oGHZKwmNrFlD"
      }
    },
    {
      "cell_type": "code",
      "source": [
        "y_train = np.empty([50,2])\n",
        "print(y_train.shape)\n",
        "for i in range(50): \n",
        "    #Compare link cost. If link cost for route1 is less than route 2 then take route 1\n",
        "    if route1[0][i] <= route2[0][i]: \n",
        "        y_train[i][0] = 1 \n",
        "        y_train[i][1] = 0\n",
        "    else: \n",
        "        y_train[i][0] = 0\n",
        "        y_train[i][1] = 1\n",
        "\n",
        "plt.plot(y_train)\n",
        "\n",
        "print(y_train.shape)\n",
        "x_train = np.transpose(x_train)\n",
        "print(x_train.shape)"
      ],
      "metadata": {
        "id": "xj9vXZz-rN_-",
        "colab": {
          "base_uri": "https://localhost:8080/",
          "height": 320
        },
        "outputId": "2d8cef56-f8fb-4f18-bded-8d127003169c"
      },
      "execution_count": 5,
      "outputs": [
        {
          "output_type": "stream",
          "name": "stdout",
          "text": [
            "(50, 2)\n",
            "(50, 2)\n",
            "(50, 2)\n"
          ]
        },
        {
          "output_type": "display_data",
          "data": {
            "text/plain": [
              "<Figure size 432x288 with 1 Axes>"
            ],
            "image/png": "[encoded data removed]"
          },
          "metadata": {
            "needs_background": "light"
          }
        }
      ]
    },
    {
      "cell_type": "markdown",
      "source": [
        "####Now we need to implement the windowing technique -- to do "
      ],
      "metadata": {
        "id": "vEr_mczSzqzC"
      }
    },
    {
      "cell_type": "code",
      "source": [
        "num_classes = 2\n",
        "window_size = 4\n",
        "input_size = 2\n",
        "num_layers = 1\n",
        "hidden_size = 5\n",
        "seq_length = 2*window_size #\n",
        "learning_rate = 0.01"
      ],
      "metadata": {
        "id": "xUAnM0Ig3zbC"
      },
      "execution_count": 6,
      "outputs": []
    },
    {
      "cell_type": "code",
      "source": [
        "l = 2*window_size+1\n",
        "mat = np.empty([2,l])\n",
        "mat.shape\n",
        "#for i in range(1,l+1): \n"
      ],
      "metadata": {
        "colab": {
          "base_uri": "https://localhost:8080/"
        },
        "id": "Qu8WzJmXzNAG",
        "outputId": "0925ac11-ff5d-4ba9-bffa-6d9afeb431a0"
      },
      "execution_count": 7,
      "outputs": [
        {
          "output_type": "execute_result",
          "data": {
            "text/plain": [
              "(2, 9)"
            ]
          },
          "metadata": {},
          "execution_count": 7
        }
      ]
    },
    {
      "cell_type": "markdown",
      "source": [
        "##NN Stuff"
      ],
      "metadata": {
        "id": "cw-hshK6_hzC"
      }
    },
    {
      "cell_type": "markdown",
      "source": [
        "Hyperparameters"
      ],
      "metadata": {
        "id": "YByfYbsl_iVb"
      }
    },
    {
      "cell_type": "code",
      "source": [
        "num_classes = 2\n",
        "input_size = 2\n",
        "num_layers = 1\n",
        "hidden_size = 5\n",
        "seq_length = 1\n",
        "learning_rate = 0.01\n",
        "batch_size = 5\n",
        "epochs = 10 "
      ],
      "metadata": {
        "id": "wjb5d8Q9vgi5"
      },
      "execution_count": 8,
      "outputs": []
    },
    {
      "cell_type": "markdown",
      "source": [
        "Define the model "
      ],
      "metadata": {
        "id": "IWS0QS0G_mNl"
      }
    },
    {
      "cell_type": "code",
      "source": [
        "class LSTM(nn.Module):\n",
        "    def __init__(self, num_classes, input_size, hidden_size, num_layers, seq_length):\n",
        "        super(LSTM, self).__init__()\n",
        "        self.num_classes = num_classes #number of classes\n",
        "        self.num_layers = num_layers #number of layers\n",
        "        self.input_size = input_size #input size\n",
        "        self.hidden_size = hidden_size #hidden state\n",
        "        self.seq_length = seq_length #sequence length\n",
        "\n",
        "        self.lstm = nn.LSTM(input_size=input_size, hidden_size=hidden_size,\n",
        "                          num_layers=num_layers, batch_first=True) #lstm\n",
        "        self.fc =  nn.Linear(hidden_size, num_classes) \n",
        "        self.sigmoid = nn.Sigmoid()\n",
        "    \n",
        "    def forward(self,x):\n",
        "        h_0 = Variable(torch.zeros(self.num_layers, x.size(0), self.hidden_size)) #hidden state\n",
        "        c_0 = Variable(torch.zeros(self.num_layers, x.size(0), self.hidden_size)) #internal state\n",
        "        # Propagate input through LSTM\n",
        "        output, (hn, cn) = self.lstm(x, (h_0, c_0)) #lstm with input, hidden, and internal state\n",
        "        hn = hn.view(-1, self.hidden_size) #reshaping the data for Dense layer next\n",
        "        out = self.fc(output) #Final Output\n",
        "        out = self.sigmoid(out)\n",
        "        return out"
      ],
      "metadata": {
        "id": "xk6_irlSsfHD"
      },
      "execution_count": 16,
      "outputs": []
    },
    {
      "cell_type": "markdown",
      "source": [
        "Create dataset and dataloaders "
      ],
      "metadata": {
        "id": "LX9GsUxD8K7o"
      }
    },
    {
      "cell_type": "code",
      "source": [
        "#convert numpy data to tensor data for pytorch\n",
        "train_dataset = torch.utils.data.TensorDataset(torch.FloatTensor(x_train),\n",
        "                                                torch.Tensor(y_train))\n",
        "train_loader = torch.utils.data.DataLoader(train_dataset, batch_size=batch_size, \n",
        "                                            shuffle=True)"
      ],
      "metadata": {
        "id": "DN38e5-W8MgQ"
      },
      "execution_count": 10,
      "outputs": []
    },
    {
      "cell_type": "markdown",
      "source": [
        "Train"
      ],
      "metadata": {
        "id": "gQbWeH1u_sUj"
      }
    },
    {
      "cell_type": "code",
      "source": [
        "model = LSTM(num_classes, input_size, hidden_size, num_layers, seq_length)\n",
        "\n",
        "#Loss and optimizer\n",
        "criterion = nn.BCELoss()\n",
        "optimizer = torch.optim.Adam(model.parameters(), lr=learning_rate)  "
      ],
      "metadata": {
        "id": "lPbDRSJw_rxq"
      },
      "execution_count": 17,
      "outputs": []
    },
    {
      "cell_type": "code",
      "source": [
        "n_total_steps = len(train_loader)\n",
        "for epoch in range(epochs):\n",
        "    for i, (x, labels) in enumerate(train_loader):\n",
        "        #x: -> (batch_size, seq, input_size)\n",
        "        x = x.unsqueeze(1) \n",
        "\n",
        "        outputs = model(x)\n",
        "\n",
        "        #outputs = outputs.type(torch.LongTensor)\n",
        "        #labels = labels.type(torch.float)\n",
        "        labels = labels.unsqueeze(1)\n",
        "        loss = criterion(outputs, labels)\n",
        "\n",
        "        # Backward and optimize\n",
        "        optimizer.zero_grad()\n",
        "        loss.backward()\n",
        "        optimizer.step()"
      ],
      "metadata": {
        "id": "yVrFQecWDWfX"
      },
      "execution_count": 19,
      "outputs": []
    },
    {
      "cell_type": "markdown",
      "source": [
        "Creating a test set"
      ],
      "metadata": {
        "id": "U4BxF7yUR3fd"
      }
    },
    {
      "cell_type": "code",
      "source": [
        "x_test  = np.concatenate((route2, route1), axis=0)\n",
        "x_test = np.squeeze(x_test)\n",
        "\n",
        "y_test = np.empty([50,2])\n",
        "for i in range(50): \n",
        "    #Compare link cost. If link cost for route1 is less than route 2 then take route 1\n",
        "    if route1[0][i] <= route2[0][i]: \n",
        "        y_train[i][0] = 0 \n",
        "        y_train[i][1] = 1\n",
        "    else: \n",
        "        y_train[i][0] = 1\n",
        "        y_train[i][1] = 0\n",
        "\n",
        "plt.plot(y_train)\n",
        "\n",
        "print(y_train.shape)\n",
        "x_train = np.transpose(x_train)"
      ],
      "metadata": {
        "id": "u3Et1oO4R419"
      },
      "execution_count": null,
      "outputs": []
    },
    {
      "cell_type": "code",
      "source": [
        "with torch.no_grad():\n",
        "    n_correct = 0\n",
        "    n_samples = 0\n",
        "    for images, labels in test_loader:\n",
        "        images = images.reshape(-1, sequence_length, input_size).to(device)\n",
        "        labels = labels.to(device)\n",
        "        outputs = model(images)\n",
        "        # max returns (value ,index)\n",
        "        _, predicted = torch.max(outputs.data, 1)\n",
        "        n_samples += labels.size(0)\n",
        "        n_correct += (predicted == labels).sum().item()\n",
        "\n",
        "    acc = 100.0 * n_correct / n_samples\n",
        "    print(f'Accuracy of the network on the 10000 test images: {acc} %')"
      ],
      "metadata": {
        "id": "YNqiV6YcvDNf"
      },
      "execution_count": null,
      "outputs": []
    }
  ]
}